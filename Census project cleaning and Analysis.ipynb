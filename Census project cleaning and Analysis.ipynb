{
 "cells": [
  {
   "cell_type": "markdown",
   "id": "48fd43c2-78c9-4990-947a-14e875e1e4b9",
   "metadata": {},
   "source": [
    "### This Python code presents a comprehensive workflow for preprocessing and preparing a census dataset for in-depth analysis. It begins with a series of detailed cleaning steps to ensure the data's integrity, followed by a thorough analysis of the results, which in turn are used to generate the recommendations required by the assignment."
   ]
  },
  {
   "cell_type": "markdown",
   "id": "b2194d36-967c-4161-893c-d555e5c90773",
   "metadata": {},
   "source": [
    "## Importing Libraries"
   ]
  },
  {
   "cell_type": "code",
   "execution_count": 32,
   "id": "f81ab44f-b02a-4140-9631-184f2e600421",
   "metadata": {},
   "outputs": [],
   "source": [
    "import pandas as pd\n",
    "import pandas as pd\n",
    "import numpy as np\n",
    "import matplotlib.pyplot as plt\n",
    "import seaborn as sns"
   ]
  },
  {
   "cell_type": "markdown",
   "id": "a05ed9b5-0846-449a-b182-b1f486bdbf6d",
   "metadata": {},
   "source": [
    "## DATA OVERVIEW"
   ]
  },
  {
   "cell_type": "code",
   "execution_count": 33,
   "id": "197016bb-5d21-427d-a4ce-cac948aa3c76",
   "metadata": {},
   "outputs": [
    {
     "name": "stdout",
     "output_type": "stream",
     "text": [
      "  House Number             Street First Name Surname Age  \\\n",
      "0            1  Phillips Overpass       Luke  Walker  64   \n",
      "1            1  Phillips Overpass       Karl   Smith  64   \n",
      "2            1  Phillips Overpass  Catherine  Harris  29   \n",
      "3            1  Phillips Overpass   Jennifer   Green  64   \n",
      "4            1  Phillips Overpass     Bethan  Atkins  30   \n",
      "\n",
      "  Relationship to Head of House Marital Status  Gender  \\\n",
      "0                          Head         Single    Male   \n",
      "1                           NaN         Single    Male   \n",
      "2                           NaN         Single  Female   \n",
      "3                           NaN         Single  Female   \n",
      "4                           NaN         Single  Female   \n",
      "\n",
      "                       Occupation Infirmity   Religion  \n",
      "0  Television/film/video producer       NaN  Methodist  \n",
      "1                      Unemployed       NaN        NaN  \n",
      "2               Buyer, industrial       NaN  Christian  \n",
      "3                    Risk analyst       NaN        NaN  \n",
      "4          Psychologist, clinical       NaN  Christian  \n"
     ]
    }
   ],
   "source": [
    "census_df = pd.read_csv(\"W-T2_A24census-8.csv\")\n",
    "print(census_df.head())"
   ]
  },
  {
   "cell_type": "code",
   "execution_count": 34,
   "id": "938c61d1-abee-4491-ad51-9a88cd6a969c",
   "metadata": {},
   "outputs": [
    {
     "data": {
      "text/plain": [
       "House Number                        0\n",
       "Street                              0\n",
       "First Name                          0\n",
       "Surname                             0\n",
       "Age                                 0\n",
       "Relationship to Head of House     527\n",
       "Marital Status                   1646\n",
       "Gender                              0\n",
       "Occupation                          0\n",
       "Infirmity                        7570\n",
       "Religion                         4275\n",
       "dtype: int64"
      ]
     },
     "execution_count": 34,
     "metadata": {},
     "output_type": "execute_result"
    }
   ],
   "source": [
    "census_df.isnull().sum()"
   ]
  },
  {
   "cell_type": "markdown",
   "id": "69cf7c9c-8c97-4a04-9b8c-aef4812cb5a0",
   "metadata": {},
   "source": [
    "## CLEANING HOUSE NUMBER"
   ]
  },
  {
   "cell_type": "code",
   "execution_count": 35,
   "id": "7a3d9086-9e15-46ab-a930-29166dc302f9",
   "metadata": {},
   "outputs": [
    {
     "data": {
      "text/plain": [
       "array(['1', '2', '3', '4', '5', '6', '7', '8', '9', '10', '11', '12',\n",
       "       '13', '14', '15', '16', '17', '18', '19', '20', '21', '22', '23',\n",
       "       '24', '25', '26', '27', '28', '29', '30', '31', '32', '33', '34',\n",
       "       '35', '36', '37', '38', '39', '40', '41', '42', '43', '44', '45',\n",
       "       '46', '47', '48', '49', '50', '51', '52', '53', '54', '55', '56',\n",
       "       '57', '58', '59', '60', '61', '62', '63', '64', '65', '66', '67',\n",
       "       '68', '69', '70', '71', '72', '73', '74', '75', '76', '77', '78',\n",
       "       '79', '80', '81', '82', '83', '84', '85', '86', '87', '88', '89',\n",
       "       '90', '91', '92', '93', '94', '95', '96', '97', '98', '99', '100',\n",
       "       '101', '102', '103', '104', '105', '106', '107', '108', '109',\n",
       "       '110', '111', '112', '113', '114', '115', '116', '117', '118',\n",
       "       '119', '120', '121', '122', '123', '124', '125', '126', '127',\n",
       "       '128', '129', '130', '131', '132', '133', '134', '135', '136',\n",
       "       '137', '138', '139', '140', '141', '142', '143', '144', '145',\n",
       "       '146', '147', '148', '149', '150', '151', '152', '153', '154',\n",
       "       '155', '156', '157', '158', '159', '160', '161', '162', '163',\n",
       "       '164', '165', '166', '167', '168', '169', '170', '171', '172',\n",
       "       '173', '174', '175', '176', '177', '178', '179', '180', '181',\n",
       "       '182', '183', '184', '185', '186', '187', '188', '189', '190',\n",
       "       '191', '192', '193', '194', '195', '196', '197', '198', '199',\n",
       "       '200', '201', '202', '203', '204', '205', '206', '207', '208',\n",
       "       '209', '210', '211', '212', '213', '214', '215', '216', '217',\n",
       "       '218', 'Four'], dtype=object)"
      ]
     },
     "execution_count": 35,
     "metadata": {},
     "output_type": "execute_result"
    }
   ],
   "source": [
    "census_df['House Number'].unique()"
   ]
  },
  {
   "cell_type": "code",
   "execution_count": 36,
   "id": "e6410de8-0eda-40f3-a7fc-16855acd107e",
   "metadata": {},
   "outputs": [],
   "source": [
    "#To replace the string 'Four' with the numeric '4' \n",
    "census_df['House Number'] = census_df['House Number'].replace({'Four': '4'})"
   ]
  },
  {
   "cell_type": "code",
   "execution_count": 37,
   "id": "d40dd145-4f5d-4e63-a776-f6b0cac05603",
   "metadata": {},
   "outputs": [],
   "source": [
    "# Convert the \"House Number\" column to integers\n",
    "census_df['House Number'] = census_df['House Number'].astype(int)"
   ]
  },
  {
   "cell_type": "code",
   "execution_count": 38,
   "id": "5f410b0f-7be2-4efc-8a39-7de3c23b25d1",
   "metadata": {},
   "outputs": [
    {
     "name": "stdout",
     "output_type": "stream",
     "text": [
      "Unique values after cleaning:\n"
     ]
    },
    {
     "data": {
      "text/plain": [
       "array([  1,   2,   3,   4,   5,   6,   7,   8,   9,  10,  11,  12,  13,\n",
       "        14,  15,  16,  17,  18,  19,  20,  21,  22,  23,  24,  25,  26,\n",
       "        27,  28,  29,  30,  31,  32,  33,  34,  35,  36,  37,  38,  39,\n",
       "        40,  41,  42,  43,  44,  45,  46,  47,  48,  49,  50,  51,  52,\n",
       "        53,  54,  55,  56,  57,  58,  59,  60,  61,  62,  63,  64,  65,\n",
       "        66,  67,  68,  69,  70,  71,  72,  73,  74,  75,  76,  77,  78,\n",
       "        79,  80,  81,  82,  83,  84,  85,  86,  87,  88,  89,  90,  91,\n",
       "        92,  93,  94,  95,  96,  97,  98,  99, 100, 101, 102, 103, 104,\n",
       "       105, 106, 107, 108, 109, 110, 111, 112, 113, 114, 115, 116, 117,\n",
       "       118, 119, 120, 121, 122, 123, 124, 125, 126, 127, 128, 129, 130,\n",
       "       131, 132, 133, 134, 135, 136, 137, 138, 139, 140, 141, 142, 143,\n",
       "       144, 145, 146, 147, 148, 149, 150, 151, 152, 153, 154, 155, 156,\n",
       "       157, 158, 159, 160, 161, 162, 163, 164, 165, 166, 167, 168, 169,\n",
       "       170, 171, 172, 173, 174, 175, 176, 177, 178, 179, 180, 181, 182,\n",
       "       183, 184, 185, 186, 187, 188, 189, 190, 191, 192, 193, 194, 195,\n",
       "       196, 197, 198, 199, 200, 201, 202, 203, 204, 205, 206, 207, 208,\n",
       "       209, 210, 211, 212, 213, 214, 215, 216, 217, 218])"
      ]
     },
     "execution_count": 38,
     "metadata": {},
     "output_type": "execute_result"
    }
   ],
   "source": [
    "print(\"Unique values after cleaning:\")\n",
    "census_df['House Number'].unique()"
   ]
  },
  {
   "cell_type": "markdown",
   "id": "4bd68d12-4008-4bc3-9a26-eeaf83cdd5b3",
   "metadata": {},
   "source": [
    "## CLEANING AGE"
   ]
  },
  {
   "cell_type": "code",
   "execution_count": 39,
   "id": "f74da76e-71c3-4f8d-adf6-dccafbfdc0a7",
   "metadata": {},
   "outputs": [
    {
     "data": {
      "text/plain": [
       "array(['64', '29', '30', '24', '28', '37', '56', '54', '59', '16', '32',\n",
       "       '34', '3', '2', '39', '0', '50', '47', '48', '15', '51', '52',\n",
       "       '43', '62', '38', '13', '36', '27', '46', '57', '81', '85', '49',\n",
       "       '42', '18', '21', '35', '19', '8', '5', '1', '45', '20', '23',\n",
       "       '33', '31', '80', '82', '69', '6', '40', '53', '12', '83', '7',\n",
       "       '76', '77', '67', '65', '22', '44', '11', '55', '14', '63', '61',\n",
       "       '25', '17', '41', '58', '60', '4', '74', '9', '78', '26', '73',\n",
       "       '71', '68', '66', '10', '79', '72', '99', '87', '89', '91', '86',\n",
       "       '70', '75', '88', 'one', '93', '94', '95', '90', '49.77636636',\n",
       "       '105', '84', '104', '79.3573726', '100', '98', '103', '92', '96',\n",
       "       '97', ' '], dtype=object)"
      ]
     },
     "execution_count": 39,
     "metadata": {},
     "output_type": "execute_result"
    }
   ],
   "source": [
    "census_df['Age'].unique()"
   ]
  },
  {
   "cell_type": "code",
   "execution_count": 40,
   "id": "4f149f1c-b3b2-43b9-a6c5-ca2d98645f3a",
   "metadata": {},
   "outputs": [],
   "source": [
    "# dictionary for replacements\n",
    "replacements = {\n",
    "    'one': '1',  \n",
    "    ' ': np.nan   \n",
    "}\n",
    "\n",
    "# Perform the replacement\n",
    "census_df['Age'] = census_df['Age'].replace(replacements)"
   ]
  },
  {
   "cell_type": "code",
   "execution_count": 41,
   "id": "afb3a089-8428-48ae-9b67-808229d4ff42",
   "metadata": {},
   "outputs": [],
   "source": [
    "# Convert the 'Age' column to numeric(float)\n",
    "census_df['Age'] = pd.to_numeric(census_df['Age'], errors='coerce')"
   ]
  },
  {
   "cell_type": "code",
   "execution_count": 42,
   "id": "1c575956-4c33-4763-9e04-7a2c9832fd74",
   "metadata": {},
   "outputs": [
    {
     "name": "stdout",
     "output_type": "stream",
     "text": [
      "      House Number              Street First Name Surname  Age  \\\n",
      "7571             1  Campbell Warehouse      Sarah   Bryan  NaN   \n",
      "\n",
      "     Relationship to Head of House Marital Status  Gender Occupation  \\\n",
      "7571                           NaN         Single  Female    Student   \n",
      "\n",
      "     Infirmity Religion  \n",
      "7571       NaN      NaN  \n"
     ]
    }
   ],
   "source": [
    "nan_age_rows = census_df[census_df['Age'].isna()]\n",
    "print(nan_age_rows)\n"
   ]
  },
  {
   "cell_type": "code",
   "execution_count": 43,
   "id": "72c862e4-3eb1-4a19-ae6e-92c24e59f653",
   "metadata": {},
   "outputs": [
    {
     "name": "stdout",
     "output_type": "stream",
     "text": [
      "Average age for 'Student': 12\n",
      "     First Name   Age\n",
      "7571      Sarah  12.0\n"
     ]
    }
   ],
   "source": [
    "#since Sarah is a student we are going to imputE her blank age with the avaerage age for people who are'students' \n",
    "# (note: students not university and phd students )in their occupation column\n",
    "\n",
    "student_avg_age = round(census_df[census_df['Occupation'] == 'Student']['Age'].mean())\n",
    "\n",
    "print(\"Average age for 'Student':\", int(student_avg_age))\n",
    "\n",
    "# Impute Sarah's missing Age with the average age for 'Student'\n",
    "census_df.loc[(census_df['First Name'] == 'Sarah') & (census_df['Age'].isna()), 'Age'] = student_avg_age\n",
    "\n",
    "# Verify the update for Sarah\n",
    "print(census_df.loc[(census_df['First Name'] == 'Sarah') & (census_df['Street'] == 'Campbell Warehouse'), ['First Name', 'Age']])\n"
   ]
  },
  {
   "cell_type": "code",
   "execution_count": 44,
   "id": "9c0af256-8935-4bed-a70c-cefadfa73f01",
   "metadata": {},
   "outputs": [],
   "source": [
    "census_df['Age'] = np.ceil(census_df['Age']).astype(int)"
   ]
  },
  {
   "cell_type": "code",
   "execution_count": 45,
   "id": "7a1fb382-1756-426f-87e7-442873625b2c",
   "metadata": {},
   "outputs": [
    {
     "name": "stdout",
     "output_type": "stream",
     "text": [
      "Unique values after cleaning:\n",
      "[ 64  29  30  24  28  37  56  54  59  16  32  34   3   2  39   0  50  47\n",
      "  48  15  51  52  43  62  38  13  36  27  46  57  81  85  49  42  18  21\n",
      "  35  19   8   5   1  45  20  23  33  31  80  82  69   6  40  53  12  83\n",
      "   7  76  77  67  65  22  44  11  55  14  63  61  25  17  41  58  60   4\n",
      "  74   9  78  26  73  71  68  66  10  79  72  99  87  89  91  86  70  75\n",
      "  88  93  94  95  90 105  84 104 100  98 103  92  96  97]\n"
     ]
    }
   ],
   "source": [
    "print(\"Unique values after cleaning:\")\n",
    "print(census_df['Age'].unique())"
   ]
  },
  {
   "cell_type": "markdown",
   "id": "7ec027bb-e4d5-491b-8528-ecb6cd0e5956",
   "metadata": {},
   "source": [
    "## CLEANING RELATIONSHIP TO HEAD OF HOUSE"
   ]
  },
  {
   "cell_type": "code",
   "execution_count": 46,
   "id": "f1dedf4c-c3c8-4031-8ff3-9ace49d178f1",
   "metadata": {},
   "outputs": [
    {
     "data": {
      "text/plain": [
       "array(['Head', nan, 'Son', 'Husband', 'Partner', 'Daughter', 'Sibling',\n",
       "       'Lodger', 'Wife', 'Neice', ' ', 'Visitor', 'Granddaughter',\n",
       "       'Adopted Granddaughter', 'Cousin', 'Nephew', 'Step-Daughter',\n",
       "       'Step-Son', 'Grandson', 'Adopted Son', 'Adopted Daughter',\n",
       "       'Son-in-law', 'Daughter-in-law'], dtype=object)"
      ]
     },
     "execution_count": 46,
     "metadata": {},
     "output_type": "execute_result"
    }
   ],
   "source": [
    "census_df['Relationship to Head of House'].unique()"
   ]
  },
  {
   "cell_type": "code",
   "execution_count": 47,
   "id": "67f8009d-8560-4273-85e3-03199bccfc06",
   "metadata": {},
   "outputs": [
    {
     "name": "stdout",
     "output_type": "stream",
     "text": [
      "Rows with NaN in 'Relationship to Head of House':\n",
      "      House Number             Street First Name   Surname  Age  \\\n",
      "1                1  Phillips Overpass       Karl     Smith   64   \n",
      "2                1  Phillips Overpass  Catherine    Harris   29   \n",
      "3                1  Phillips Overpass   Jennifer     Green   64   \n",
      "4                1  Phillips Overpass     Bethan    Atkins   30   \n",
      "9                3  Phillips Overpass    Chelsea      Dunn   24   \n",
      "...            ...                ...        ...       ...  ...   \n",
      "7601             1   Anvil Lighthouse      Aimee      Page   42   \n",
      "7602             1   Anvil Lighthouse      Aaron    Miller   33   \n",
      "7603             1   Anvil Lighthouse  Christian       Fry   63   \n",
      "7604             1   Anvil Lighthouse       Ruth     Baker   39   \n",
      "7605             1   Anvil Lighthouse       Glen  Davidson   42   \n",
      "\n",
      "     Relationship to Head of House Marital Status  Gender  \\\n",
      "1                              NaN         Single    Male   \n",
      "2                              NaN         Single  Female   \n",
      "3                              NaN         Single  Female   \n",
      "4                              NaN         Single  Female   \n",
      "9                              NaN         Single  Female   \n",
      "...                            ...            ...     ...   \n",
      "7601                           NaN         Single  Female   \n",
      "7602                           NaN         Single    Male   \n",
      "7603                           NaN         Single    Male   \n",
      "7604                           NaN         Single  Female   \n",
      "7605                           NaN         Single    Male   \n",
      "\n",
      "                              Occupation Infirmity   Religion  \n",
      "1                             Unemployed       NaN        NaN  \n",
      "2                      Buyer, industrial       NaN  Christian  \n",
      "3                           Risk analyst       NaN        NaN  \n",
      "4                 Psychologist, clinical       NaN  Christian  \n",
      "9                        Arboriculturist       NaN  Methodist  \n",
      "...                                  ...       ...        ...  \n",
      "7601                     Naval architect       NaN  Christian  \n",
      "7602                   Financial manager       NaN        NaN  \n",
      "7603         Lecturer, further education       NaN  Christian  \n",
      "7604  Public relations account executive       NaN   Catholic  \n",
      "7605            Environmental consultant       NaN        NaN  \n",
      "\n",
      "[529 rows x 11 columns]\n"
     ]
    },
    {
     "name": "stderr",
     "output_type": "stream",
     "text": [
      "C:\\Users\\user\\AppData\\Local\\Temp\\ipykernel_16592\\448800748.py:5: FutureWarning: A value is trying to be set on a copy of a DataFrame or Series through chained assignment using an inplace method.\n",
      "The behavior will change in pandas 3.0. This inplace method will never work because the intermediate object on which we are setting values always behaves as a copy.\n",
      "\n",
      "For example, when doing 'df[col].method(value, inplace=True)', try using 'df.method({col: value}, inplace=True)' or df[col] = df[col].method(value) instead, to perform the operation inplace on the original object.\n",
      "\n",
      "\n",
      "  census_df['Relationship to Head of House'].replace('', np.nan, inplace=True)\n"
     ]
    }
   ],
   "source": [
    "# strip whitespace from the column entries to catch any entries that are just spaces\n",
    "census_df['Relationship to Head of House'] = census_df['Relationship to Head of House'].str.strip()\n",
    "\n",
    "# Replace empty strings with NaN\n",
    "census_df['Relationship to Head of House'].replace('', np.nan, inplace=True)\n",
    "\n",
    "# rows where the value is NaN\n",
    "nan_rows = census_df[census_df['Relationship to Head of House'].isna()]\n",
    "print(\"Rows with NaN in 'Relationship to Head of House':\")\n",
    "print(nan_rows)\n"
   ]
  },
  {
   "cell_type": "code",
   "execution_count": 48,
   "id": "83d69383-c678-4a9d-a86c-aafe4004195b",
   "metadata": {},
   "outputs": [],
   "source": [
    "# Correcting a typo:\n",
    "census_df['Relationship to Head of House'] = census_df['Relationship to Head of House'].replace({'Neice': 'Niece'})"
   ]
  },
  {
   "cell_type": "code",
   "execution_count": 49,
   "id": "ffcf85ec-6754-4cd3-937a-763c588351c4",
   "metadata": {},
   "outputs": [
    {
     "name": "stderr",
     "output_type": "stream",
     "text": [
      "C:\\Users\\user\\AppData\\Local\\Temp\\ipykernel_16592\\1743773755.py:2: FutureWarning: A value is trying to be set on a copy of a DataFrame or Series through chained assignment using an inplace method.\n",
      "The behavior will change in pandas 3.0. This inplace method will never work because the intermediate object on which we are setting values always behaves as a copy.\n",
      "\n",
      "For example, when doing 'df[col].method(value, inplace=True)', try using 'df.method({col: value}, inplace=True)' or df[col] = df[col].method(value) instead, to perform the operation inplace on the original object.\n",
      "\n",
      "\n",
      "  census_df['Relationship to Head of House'].fillna('Unknown', inplace=True)\n"
     ]
    }
   ],
   "source": [
    "# Replace NaN with a placeholder value\n",
    "census_df['Relationship to Head of House'].fillna('Unknown', inplace=True)"
   ]
  },
  {
   "cell_type": "code",
   "execution_count": 50,
   "id": "1e39d5ce-3f5e-4e1d-8e2c-c2a8d0dfe59c",
   "metadata": {},
   "outputs": [
    {
     "name": "stdout",
     "output_type": "stream",
     "text": [
      "Households that are missing a 'Head':\n",
      "Zigzag Corner 28\n"
     ]
    }
   ],
   "source": [
    "# to check for houses without  head of house \n",
    "\n",
    "# composite household identifier\n",
    "census_df['household'] = census_df['Street'].str.strip() + \" \" + census_df['House Number'].astype(str).str.strip()\n",
    "\n",
    "# Function to check if a household has at least one \"Head\"\n",
    "def has_head(group):\n",
    "    # Check for \"head\" (case-insensitive) in the \"Relationship to Head of House\" column\n",
    "    return group['Relationship to Head of House'].str.lower().eq('head').any()\n",
    "\n",
    "# Group by the composite household and find households missing a \"Head\"\n",
    "households_missing_head = census_df.groupby('household').filter(lambda group: not has_head(group))\n",
    "\n",
    "# Get the unique household identifiers that are missing a \"Head\"\n",
    "missing_household_ids = households_missing_head['household'].unique()\n",
    "\n",
    "print(\"Households that are missing a 'Head':\")\n",
    "for household in missing_household_ids:\n",
    "    print(household)\n"
   ]
  },
  {
   "cell_type": "code",
   "execution_count": 51,
   "id": "f5ab1271-c1af-4155-b872-f37d2874c78e",
   "metadata": {},
   "outputs": [],
   "source": [
    "# The house on 28 Zigzag Corner, there are two occupants of the house a 48-year-old and a 14-year-old the 48-year-old was made the head of the house\n",
    "\n",
    "census_df.loc[\n",
    "    (census_df['House Number'] == 28) &\n",
    "    (census_df['Street'] == 'Zigzag Corner') &\n",
    "    (census_df['First Name'] == 'Lynda') &\n",
    "    (census_df['Surname'] == 'Smith') &\n",
    "    (census_df['Age'] == 48),\n",
    "    'Relationship to Head of House'\n",
    "] = 'Head'\n"
   ]
  },
  {
   "cell_type": "code",
   "execution_count": 52,
   "id": "611d5957-59e0-458c-a2d0-4d3d0c072380",
   "metadata": {},
   "outputs": [
    {
     "name": "stdout",
     "output_type": "stream",
     "text": [
      "      House Number         Street First Name Surname  Age  \\\n",
      "7159            28  Zigzag Corner      Lynda   Smith   48   \n",
      "\n",
      "     Relationship to Head of House  \n",
      "7159                          Head  \n"
     ]
    }
   ],
   "source": [
    "# Print the updated row to verify the change\n",
    "print(census_df.loc[\n",
    "    (census_df['House Number'] == 28) &\n",
    "    (census_df['Street'] == 'Zigzag Corner') &\n",
    "    (census_df['First Name'] == 'Lynda') &\n",
    "    (census_df['Surname'] == 'Smith') &\n",
    "    (census_df['Age'] == 48),\n",
    "    ['House Number', 'Street', 'First Name', 'Surname', 'Age', 'Relationship to Head of House']\n",
    "])\n"
   ]
  },
  {
   "cell_type": "code",
   "execution_count": 53,
   "id": "c2d7543e-b5cc-4b0c-9af6-0e976da78e83",
   "metadata": {},
   "outputs": [
    {
     "name": "stdout",
     "output_type": "stream",
     "text": [
      "Unique values after cleaning:\n",
      "['Head' 'Unknown' 'Son' 'Husband' 'Partner' 'Daughter' 'Sibling' 'Lodger'\n",
      " 'Wife' 'Niece' 'Visitor' 'Granddaughter' 'Adopted Granddaughter' 'Cousin'\n",
      " 'Nephew' 'Step-Daughter' 'Step-Son' 'Grandson' 'Adopted Son'\n",
      " 'Adopted Daughter' 'Son-in-law' 'Daughter-in-law']\n"
     ]
    }
   ],
   "source": [
    "print(\"Unique values after cleaning:\")\n",
    "print(census_df['Relationship to Head of House'].unique())"
   ]
  },
  {
   "cell_type": "markdown",
   "id": "6a679447-7926-442a-9b8b-2823a5827b66",
   "metadata": {},
   "source": [
    "## CLEANING MARITAL STATUS"
   ]
  },
  {
   "cell_type": "code",
   "execution_count": 54,
   "id": "cb43bad5-f79f-4e94-bed5-7fb24fb04e3c",
   "metadata": {},
   "outputs": [
    {
     "data": {
      "text/plain": [
       "array(['Single', 'Divorced', 'Married', nan, 'Widowed', 'D', ' ', 'M',\n",
       "       'S', 'W'], dtype=object)"
      ]
     },
     "execution_count": 54,
     "metadata": {},
     "output_type": "execute_result"
    }
   ],
   "source": [
    "census_df['Marital Status'].unique()"
   ]
  },
  {
   "cell_type": "code",
   "execution_count": 55,
   "id": "7ca5df92-cc88-419b-87ae-a7867266fad7",
   "metadata": {},
   "outputs": [
    {
     "name": "stderr",
     "output_type": "stream",
     "text": [
      "C:\\Users\\user\\AppData\\Local\\Temp\\ipykernel_16592\\2906151054.py:5: FutureWarning: A value is trying to be set on a copy of a DataFrame or Series through chained assignment using an inplace method.\n",
      "The behavior will change in pandas 3.0. This inplace method will never work because the intermediate object on which we are setting values always behaves as a copy.\n",
      "\n",
      "For example, when doing 'df[col].method(value, inplace=True)', try using 'df.method({col: value}, inplace=True)' or df[col] = df[col].method(value) instead, to perform the operation inplace on the original object.\n",
      "\n",
      "\n",
      "  census_df['Marital Status'].replace('', np.nan, inplace=True)\n"
     ]
    }
   ],
   "source": [
    "# Remove leading/trailing whitespace\n",
    "census_df['Marital Status'] = census_df['Marital Status'].str.strip()\n",
    "\n",
    "# Replace empty strings with NaN\n",
    "census_df['Marital Status'].replace('', np.nan, inplace=True)"
   ]
  },
  {
   "cell_type": "code",
   "execution_count": 56,
   "id": "5ee72dd1-e0a3-43a5-a4f0-136ed07ea47c",
   "metadata": {},
   "outputs": [],
   "source": [
    "# mapping from abbreviations to full names\n",
    "status_mapping = {\n",
    "    'S': 'Single',\n",
    "    'M': 'Married',\n",
    "    'W': 'Widowed',\n",
    "    'D': 'Divorced'\n",
    "}\n",
    "\n",
    "# Replace abbreviated values with full names\n",
    "census_df['Marital Status'] = census_df['Marital Status'].replace(status_mapping)\n"
   ]
  },
  {
   "cell_type": "code",
   "execution_count": 57,
   "id": "375862c7-a714-45c0-8576-c1d13c6c9a25",
   "metadata": {},
   "outputs": [
    {
     "name": "stdout",
     "output_type": "stream",
     "text": [
      "Rows with NaN in 'Marital Status':\n",
      "      House Number             Street First Name         Surname  Age  \\\n",
      "14               4  Phillips Overpass     Duncan            Hill   16   \n",
      "17               5  Phillips Overpass       Jack           Brown    3   \n",
      "18               5  Phillips Overpass     Dennis           Brown    2   \n",
      "20               6  Phillips Overpass       Anne       Macdonald    0   \n",
      "24               7  Phillips Overpass    Francis           Riley   15   \n",
      "...            ...                ...        ...             ...  ...   \n",
      "7613             1        Scott Ranch       Jean  Butler-Hussain   12   \n",
      "7614             1        Scott Ranch     Pamela  Butler-Hussain   10   \n",
      "7615             1        Scott Ranch     Teresa  Butler-Hussain   10   \n",
      "7617             1    Grape Farmhouse    William        Chadwick   12   \n",
      "7620             1          Wood Keep      Joyce        Marshall    0   \n",
      "\n",
      "     Relationship to Head of House Marital Status  Gender Occupation  \\\n",
      "14                             Son            NaN    Male    Student   \n",
      "17                             Son            NaN    male      Child   \n",
      "18                             Son            NaN    Male      Child   \n",
      "20                        Daughter            NaN  Female      Child   \n",
      "24                             Son            NaN       M    Student   \n",
      "...                            ...            ...     ...        ...   \n",
      "7613                 Granddaughter            NaN  Female    Student   \n",
      "7614                 Granddaughter            NaN  Female    Student   \n",
      "7615                 Granddaughter            NaN  Female    Student   \n",
      "7617                           Son            NaN    Male    Student   \n",
      "7620                      Daughter            NaN  Female      Child   \n",
      "\n",
      "     Infirmity Religion            household  \n",
      "14         NaN      NaN  Phillips Overpass 4  \n",
      "17         NaN      NaN  Phillips Overpass 5  \n",
      "18         NaN      NaN  Phillips Overpass 5  \n",
      "20         NaN      NaN  Phillips Overpass 6  \n",
      "24                  NaN  Phillips Overpass 7  \n",
      "...        ...      ...                  ...  \n",
      "7613       NaN      NaN        Scott Ranch 1  \n",
      "7614       NaN      NaN        Scott Ranch 1  \n",
      "7615       NaN      NaN        Scott Ranch 1  \n",
      "7617       NaN      NaN    Grape Farmhouse 1  \n",
      "7620       NaN      NaN          Wood Keep 1  \n",
      "\n",
      "[1648 rows x 12 columns]\n"
     ]
    }
   ],
   "source": [
    "nan_rows_m = census_df[census_df['Marital Status'].isna()]\n",
    "print(\"Rows with NaN in 'Marital Status':\")\n",
    "print(nan_rows_m)"
   ]
  },
  {
   "cell_type": "code",
   "execution_count": 58,
   "id": "d7cdec6d-fb50-4d48-9dbd-8141603e456d",
   "metadata": {},
   "outputs": [
    {
     "name": "stdout",
     "output_type": "stream",
     "text": [
      "Ages of people with NaN in 'Marital Status':\n",
      "max:  23\n",
      "min:  0\n"
     ]
    }
   ],
   "source": [
    "# Filter rows where 'Marital Status' is NaN\n",
    "nan_rows_m = census_df[census_df['Marital Status'].isna()]\n",
    "\n",
    "# print max and min age  of those rows\n",
    "print(\"Ages of people with NaN in 'Marital Status':\")\n",
    "print(\"max: \", nan_rows_m['Age'].max())\n",
    "print(\"min: \", nan_rows_m['Age'].min())"
   ]
  },
  {
   "cell_type": "code",
   "execution_count": 59,
   "id": "a757d987-ba52-4a5f-9590-0fb17916aa55",
   "metadata": {},
   "outputs": [
    {
     "name": "stdout",
     "output_type": "stream",
     "text": [
      "      Age Marital Status\n",
      "14     16       Underage\n",
      "17      3       Underage\n",
      "18      2       Underage\n",
      "20      0       Underage\n",
      "24     15       Underage\n",
      "...   ...            ...\n",
      "7613   12       Underage\n",
      "7614   10       Underage\n",
      "7615   10       Underage\n",
      "7617   12       Underage\n",
      "7620    0       Underage\n",
      "\n",
      "[1648 rows x 2 columns]\n"
     ]
    }
   ],
   "source": [
    "#imputing undergae in maritals status for people aged less than 18\n",
    "\n",
    "# mask for rows where 'Marital Status' is NaN\n",
    "mask = census_df['Marital Status'].isna()\n",
    "\n",
    "# Replace NaN values in 'Marital Status' based on the corresponding 'Age'\n",
    "census_df.loc[mask, 'Marital Status'] = census_df.loc[mask, 'Age'].apply(lambda age: 'Underage' if age < 18 else 'Single')\n",
    "\n",
    "# Verify the changes\n",
    "print(census_df[['Age', 'Marital Status']].loc[mask])\n"
   ]
  },
  {
   "cell_type": "code",
   "execution_count": 60,
   "id": "944532f3-789f-4bb9-8006-44dc642fbb4c",
   "metadata": {},
   "outputs": [],
   "source": [
    "census_df.loc[\n",
    "    (census_df['House Number'] == 1) &\n",
    "    (census_df['Street'] == 'Campbell Warehouse') &\n",
    "    (census_df['First Name'] == 'Sarah') &\n",
    "    (census_df['Surname'] == 'Bryan') &\n",
    "    (census_df['Age'] == 12),\n",
    "    'Marital Status'\n",
    "] = 'Underage'\n"
   ]
  },
  {
   "cell_type": "code",
   "execution_count": 61,
   "id": "72bd38e9-b5c6-4e74-a830-af834b2f4dc4",
   "metadata": {},
   "outputs": [
    {
     "name": "stdout",
     "output_type": "stream",
     "text": [
      "      House Number              Street First Name Surname  Age  \\\n",
      "7571             1  Campbell Warehouse      Sarah   Bryan   12   \n",
      "\n",
      "     Relationship to Head of House Marital Status  \n",
      "7571                       Unknown       Underage  \n"
     ]
    }
   ],
   "source": [
    "# Print the updated row to verify the change\n",
    "print(census_df.loc[\n",
    "    (census_df['House Number'] == 1) &\n",
    "    (census_df['Street'] == 'Campbell Warehouse') &\n",
    "    (census_df['First Name'] == 'Sarah') &\n",
    "    (census_df['Surname'] == 'Bryan') &\n",
    "    (census_df['Age'] == 12),\n",
    "    ['House Number', 'Street', 'First Name', 'Surname', 'Age', 'Relationship to Head of House', 'Marital Status']\n",
    "])\n"
   ]
  },
  {
   "cell_type": "code",
   "execution_count": 62,
   "id": "234e69de-0c00-4c8d-ad52-eaf4051dcb66",
   "metadata": {},
   "outputs": [
    {
     "name": "stdout",
     "output_type": "stream",
     "text": [
      "Unique values after cleaning:\n",
      "['Single' 'Divorced' 'Married' 'Underage' 'Widowed']\n"
     ]
    }
   ],
   "source": [
    "print(\"Unique values after cleaning:\")\n",
    "print(census_df['Marital Status'].unique())"
   ]
  },
  {
   "cell_type": "code",
   "execution_count": 63,
   "id": "b00dccf9-0760-4cce-95be-bfc1910faaaf",
   "metadata": {},
   "outputs": [],
   "source": [
    "# Create a backup of the original DataFrame\n",
    "backup_df = census_df.copy()"
   ]
  },
  {
   "cell_type": "markdown",
   "id": "34d42037-8f89-4353-9714-dde065751536",
   "metadata": {},
   "source": [
    "## CLEANING GENDER"
   ]
  },
  {
   "cell_type": "code",
   "execution_count": 64,
   "id": "6b057068-70ea-4b03-b712-a422c33665cc",
   "metadata": {},
   "outputs": [
    {
     "data": {
      "text/plain": [
       "array(['Male', 'Female', 'male', 'M', 'F', 'm', 'f', 'female', ' '],\n",
       "      dtype=object)"
      ]
     },
     "execution_count": 64,
     "metadata": {},
     "output_type": "execute_result"
    }
   ],
   "source": [
    "census_df['Gender'].unique()"
   ]
  },
  {
   "cell_type": "code",
   "execution_count": 65,
   "id": "382ebd16-93da-47ed-8dcf-a59f26104cd7",
   "metadata": {},
   "outputs": [
    {
     "name": "stderr",
     "output_type": "stream",
     "text": [
      "C:\\Users\\user\\AppData\\Local\\Temp\\ipykernel_16592\\3081483021.py:2: FutureWarning: A value is trying to be set on a copy of a DataFrame or Series through chained assignment using an inplace method.\n",
      "The behavior will change in pandas 3.0. This inplace method will never work because the intermediate object on which we are setting values always behaves as a copy.\n",
      "\n",
      "For example, when doing 'df[col].method(value, inplace=True)', try using 'df.method({col: value}, inplace=True)' or df[col] = df[col].method(value) instead, to perform the operation inplace on the original object.\n",
      "\n",
      "\n",
      "  census_df['Gender'].replace('', np.nan, inplace=True)    # Convert empty strings to NaN\n"
     ]
    }
   ],
   "source": [
    "census_df['Gender'] = census_df['Gender'].str.strip()   # Remove leading/trailing whitespace\n",
    "census_df['Gender'].replace('', np.nan, inplace=True)    # Convert empty strings to NaN"
   ]
  },
  {
   "cell_type": "code",
   "execution_count": 66,
   "id": "3ef62daf-7979-4100-babf-73ed3fa0f934",
   "metadata": {},
   "outputs": [],
   "source": [
    "#Convert to lowercase to standardize for mapping\n",
    "census_df['Gender'] = census_df['Gender'].str.lower()"
   ]
  },
  {
   "cell_type": "code",
   "execution_count": 67,
   "id": "1b7523fc-a1dc-4de2-a6c1-78bdeabc3200",
   "metadata": {},
   "outputs": [],
   "source": [
    "#Map abbreviations and standardize names\n",
    "gender_mapping = {\n",
    "    'm': 'Male',\n",
    "    'male': 'Male',\n",
    "    'f': 'Female',\n",
    "    'female': 'Female'\n",
    "}\n",
    "\n",
    "census_df['Gender'] = census_df['Gender'].replace(gender_mapping)"
   ]
  },
  {
   "cell_type": "code",
   "execution_count": 68,
   "id": "e67a3cfc-1fbe-4b36-885f-180a697efd88",
   "metadata": {},
   "outputs": [
    {
     "name": "stdout",
     "output_type": "stream",
     "text": [
      "Rows where 'Gender' is NaN:\n",
      "      House Number       Street First Name Surname  Age  \\\n",
      "6527             3  Dunn Harbor     Ronald  Carter   10   \n",
      "\n",
      "     Relationship to Head of House Marital Status Gender Occupation Infirmity  \\\n",
      "6527                           Son       Underage    NaN    Student       NaN   \n",
      "\n",
      "     Religion      household  \n",
      "6527      NaN  Dunn Harbor 3  \n"
     ]
    }
   ],
   "source": [
    "# Filter rows where 'Gender' is NaN and print the entire row information\n",
    "nan_gender_rows = census_df[census_df['Gender'].isna()]\n",
    "print(\"Rows where 'Gender' is NaN:\")\n",
    "print(nan_gender_rows)"
   ]
  },
  {
   "cell_type": "code",
   "execution_count": 69,
   "id": "2b944d9a-07cc-475f-b04a-62adc6c23b75",
   "metadata": {},
   "outputs": [],
   "source": [
    "#since we can see the only row with NaN in Gender has a son relationship to the head of house we can assume he is male and\n",
    "#therefore impute male in place of nan\n",
    "mask_son = census_df['Gender'].isna() & (census_df['Relationship to Head of House'].str.lower().str.strip() == 'son')\n",
    "\n",
    "# Impute 'Male' in the Gender column for the row\n",
    "census_df.loc[mask_son, 'Gender'] = 'Male'\n"
   ]
  },
  {
   "cell_type": "code",
   "execution_count": 70,
   "id": "93cdb457-baeb-4c81-9ac7-caa00bccf079",
   "metadata": {},
   "outputs": [
    {
     "name": "stdout",
     "output_type": "stream",
     "text": [
      "Unique values after cleaning:\n",
      "['Male' 'Female']\n"
     ]
    }
   ],
   "source": [
    "print(\"Unique values after cleaning:\")\n",
    "print(census_df['Gender'].unique())"
   ]
  },
  {
   "cell_type": "markdown",
   "id": "b824d481-1347-4713-b82a-f7df77208013",
   "metadata": {},
   "source": [
    "## CLEANING INFIRMITY"
   ]
  },
  {
   "cell_type": "code",
   "execution_count": 71,
   "id": "f8e6cb32-6979-453c-8221-780235d735a2",
   "metadata": {},
   "outputs": [
    {
     "data": {
      "text/plain": [
       "array([nan, ' ', 'Blind', 'Physical Disability', 'Disabled',\n",
       "       'Mental Disability', 'Deaf', 'Unknown Infection'], dtype=object)"
      ]
     },
     "execution_count": 71,
     "metadata": {},
     "output_type": "execute_result"
    }
   ],
   "source": [
    "census_df['Infirmity'].unique()"
   ]
  },
  {
   "cell_type": "code",
   "execution_count": 72,
   "id": "f64e7d8d-93b6-48f0-908b-2a5eb64b4176",
   "metadata": {},
   "outputs": [
    {
     "name": "stderr",
     "output_type": "stream",
     "text": [
      "C:\\Users\\user\\AppData\\Local\\Temp\\ipykernel_16592\\3335299377.py:5: FutureWarning: A value is trying to be set on a copy of a DataFrame or Series through chained assignment using an inplace method.\n",
      "The behavior will change in pandas 3.0. This inplace method will never work because the intermediate object on which we are setting values always behaves as a copy.\n",
      "\n",
      "For example, when doing 'df[col].method(value, inplace=True)', try using 'df.method({col: value}, inplace=True)' or df[col] = df[col].method(value) instead, to perform the operation inplace on the original object.\n",
      "\n",
      "\n",
      "  census_df['Infirmity'].replace('', np.nan, inplace=True)\n"
     ]
    }
   ],
   "source": [
    "# Remove extra whitespace from all entries in the Infirmity column\n",
    "census_df['Infirmity'] = census_df['Infirmity'].str.strip()\n",
    "\n",
    "# Replace empty strings with NaN\n",
    "census_df['Infirmity'].replace('', np.nan, inplace=True)\n"
   ]
  },
  {
   "cell_type": "code",
   "execution_count": 73,
   "id": "0ae6655f-6f7c-43f8-a524-95e2bc2be185",
   "metadata": {},
   "outputs": [],
   "source": [
    "# a mapping to consolidate disability categories\n",
    "disability_mapping = {\n",
    "    'Mental Disability': 'Disabled',\n",
    "    'Physical Disability': 'Disabled',\n",
    "    'Disabled': 'Disabled',\n",
    "    'Blind' : 'Disabled',\n",
    "    'Deaf' : 'Disabled' # Ensure all are mapped consistently\n",
    "}\n",
    "\n",
    "# Apply the mapping\n",
    "census_df['Infirmity'] = census_df['Infirmity'].replace(disability_mapping)\n"
   ]
  },
  {
   "cell_type": "code",
   "execution_count": 74,
   "id": "9c983712-b02d-4083-a47f-216967fced18",
   "metadata": {},
   "outputs": [
    {
     "name": "stderr",
     "output_type": "stream",
     "text": [
      "C:\\Users\\user\\AppData\\Local\\Temp\\ipykernel_16592\\107584993.py:1: FutureWarning: A value is trying to be set on a copy of a DataFrame or Series through chained assignment using an inplace method.\n",
      "The behavior will change in pandas 3.0. This inplace method will never work because the intermediate object on which we are setting values always behaves as a copy.\n",
      "\n",
      "For example, when doing 'df[col].method(value, inplace=True)', try using 'df.method({col: value}, inplace=True)' or df[col] = df[col].method(value) instead, to perform the operation inplace on the original object.\n",
      "\n",
      "\n",
      "  census_df['Infirmity'].fillna('No Infirmity', inplace=True)\n"
     ]
    }
   ],
   "source": [
    "census_df['Infirmity'].fillna('No Infirmity', inplace=True)\n"
   ]
  },
  {
   "cell_type": "code",
   "execution_count": 75,
   "id": "c4ec06e6-495f-48f7-a17a-eac671bb04ae",
   "metadata": {},
   "outputs": [
    {
     "name": "stdout",
     "output_type": "stream",
     "text": [
      "Unique values after cleaning:\n",
      "['No Infirmity' 'Disabled' 'Unknown Infection']\n"
     ]
    }
   ],
   "source": [
    "print(\"Unique values after cleaning:\")\n",
    "print(census_df['Infirmity'].unique())"
   ]
  },
  {
   "cell_type": "markdown",
   "id": "59e9fc52-1bdb-475a-8613-94ee596175b4",
   "metadata": {},
   "source": [
    "## CLEANING RELIGION"
   ]
  },
  {
   "cell_type": "code",
   "execution_count": 76,
   "id": "cf7bc410-5d7b-4ab8-9bd3-0fc863eb66da",
   "metadata": {},
   "outputs": [
    {
     "data": {
      "text/plain": [
       "array(['Methodist', nan, 'Christian', 'Catholic', 'Muslim', 'Sikh',\n",
       "       'Nope', 'Orthodoxy', 'Private', 'Jewish', 'Agnostic',\n",
       "       'Housekeeper', ' ', 'Pagan', 'Bahai'], dtype=object)"
      ]
     },
     "execution_count": 76,
     "metadata": {},
     "output_type": "execute_result"
    }
   ],
   "source": [
    "census_df['Religion'].unique()"
   ]
  },
  {
   "cell_type": "code",
   "execution_count": 77,
   "id": "189fbe91-2449-48da-85cc-48b79ccabbad",
   "metadata": {},
   "outputs": [
    {
     "name": "stderr",
     "output_type": "stream",
     "text": [
      "C:\\Users\\user\\AppData\\Local\\Temp\\ipykernel_16592\\399524290.py:5: FutureWarning: A value is trying to be set on a copy of a DataFrame or Series through chained assignment using an inplace method.\n",
      "The behavior will change in pandas 3.0. This inplace method will never work because the intermediate object on which we are setting values always behaves as a copy.\n",
      "\n",
      "For example, when doing 'df[col].method(value, inplace=True)', try using 'df.method({col: value}, inplace=True)' or df[col] = df[col].method(value) instead, to perform the operation inplace on the original object.\n",
      "\n",
      "\n",
      "  census_df['Religion'].replace('', np.nan, inplace=True)\n"
     ]
    }
   ],
   "source": [
    "# Remove extra whitespace\n",
    "census_df['Religion'] = census_df['Religion'].str.strip()\n",
    "\n",
    "# Replace blank strings with NaN\n",
    "census_df['Religion'].replace('', np.nan, inplace=True)"
   ]
  },
  {
   "cell_type": "code",
   "execution_count": 78,
   "id": "da029b37-e3cc-47db-a5ac-ea9181c4d7fc",
   "metadata": {},
   "outputs": [
    {
     "data": {
      "text/plain": [
       "array(['Methodist', nan, 'Christian', 'Catholic', 'Muslim', 'Sikh',\n",
       "       'Nope', 'Orthodoxy', 'Private', 'Jewish', 'Agnostic',\n",
       "       'Housekeeper', 'Pagan', 'Bahai'], dtype=object)"
      ]
     },
     "execution_count": 78,
     "metadata": {},
     "output_type": "execute_result"
    }
   ],
   "source": [
    "census_df['Religion'].unique()"
   ]
  },
  {
   "cell_type": "code",
   "execution_count": 79,
   "id": "1db71f25-fcef-4136-a5cb-68f4f5a83feb",
   "metadata": {},
   "outputs": [],
   "source": [
    "# ***because there is only one instance of someone filling religion as Housekeeper and private we are converting them to 'not religiuos' \n",
    "# and there were 5 people who filled nope we are assuming these people thought the answer was a 'yes' or 'no' question hence they filled nope \n",
    "#because they are not religious or they accidentally filled nope instead of none either way we have replaced them with 'Not religious'\n",
    "\n",
    "# Define a mapping for the anomalies\n",
    "anomaly_mapping = {\n",
    "    'Nope': 'Not Religious',\n",
    "    'Housekeeper': 'Not Religious',\n",
    "    'Private': 'Not Religious'\n",
    "}\n",
    "\n",
    "# Replace the anomalies and then fill NaN values with \"Not Religious\"\n",
    "census_df['Religion'] = census_df['Religion'].replace(anomaly_mapping).fillna('Not Religious')\n"
   ]
  },
  {
   "cell_type": "code",
   "execution_count": 80,
   "id": "8c3df779-bb7e-4698-b584-9d21926d717e",
   "metadata": {},
   "outputs": [],
   "source": [
    "#because he Danny lives boy is 14 and lives with his grandma who is catholic we can assume he is also catholic\n",
    "census_df.loc[\n",
    "    (census_df['House Number'] == 28) &\n",
    "    (census_df['Street'] == 'Zigzag Corner') &\n",
    "    (census_df['First Name'] == 'Danny') &\n",
    "    (census_df['Surname'] == 'Smith') &\n",
    "    (census_df['Age'] == 14),\n",
    "    'Religion'\n",
    "] = 'Catholic'"
   ]
  },
  {
   "cell_type": "code",
   "execution_count": 81,
   "id": "b2e468e4-112e-4904-8a39-729eead584d5",
   "metadata": {},
   "outputs": [
    {
     "name": "stdout",
     "output_type": "stream",
     "text": [
      "      House Number         Street First Name Surname  Age  \\\n",
      "7160            28  Zigzag Corner      Danny   Smith   14   \n",
      "\n",
      "     Relationship to Head of House  Religion  \n",
      "7160                      Grandson  Catholic  \n"
     ]
    }
   ],
   "source": [
    "# Print the updated row to verify the change\n",
    "print(census_df.loc[\n",
    "    (census_df['House Number'] == 28) &\n",
    "    (census_df['Street'] == 'Zigzag Corner') &\n",
    "    (census_df['First Name'] == 'Danny') &\n",
    "    (census_df['Surname'] == 'Smith') &\n",
    "    (census_df['Age'] == 14),\n",
    "    ['House Number', 'Street', 'First Name', 'Surname', 'Age', 'Relationship to Head of House', 'Religion']\n",
    "])\n"
   ]
  },
  {
   "cell_type": "code",
   "execution_count": 82,
   "id": "09f96bc7-4730-4140-95cb-2ad3933fce2f",
   "metadata": {},
   "outputs": [
    {
     "name": "stdout",
     "output_type": "stream",
     "text": [
      "                household First Name         Surname  Age  \\\n",
      "14    Phillips Overpass 4     Duncan            Hill   16   \n",
      "17    Phillips Overpass 5       Jack           Brown    3   \n",
      "18    Phillips Overpass 5     Dennis           Brown    2   \n",
      "20    Phillips Overpass 6       Anne       Macdonald    0   \n",
      "24    Phillips Overpass 7    Francis           Riley   15   \n",
      "...                   ...        ...             ...  ...   \n",
      "7613        Scott Ranch 1       Jean  Butler-Hussain   12   \n",
      "7614        Scott Ranch 1     Pamela  Butler-Hussain   10   \n",
      "7615        Scott Ranch 1     Teresa  Butler-Hussain   10   \n",
      "7617    Grape Farmhouse 1    William        Chadwick   12   \n",
      "7620          Wood Keep 1      Joyce        Marshall    0   \n",
      "\n",
      "     Relationship to Head of House       Religion  \n",
      "14                             Son      Christian  \n",
      "17                             Son      Christian  \n",
      "18                             Son      Christian  \n",
      "20                        Daughter  Not Religious  \n",
      "24                             Son       Catholic  \n",
      "...                            ...            ...  \n",
      "7613                 Granddaughter  Not Religious  \n",
      "7614                 Granddaughter  Not Religious  \n",
      "7615                 Granddaughter  Not Religious  \n",
      "7617                           Son      Christian  \n",
      "7620                      Daughter       Catholic  \n",
      "\n",
      "[1647 rows x 6 columns]\n"
     ]
    },
    {
     "name": "stderr",
     "output_type": "stream",
     "text": [
      "C:\\Users\\user\\AppData\\Local\\Temp\\ipykernel_16592\\2642167231.py:21: DeprecationWarning: DataFrameGroupBy.apply operated on the grouping columns. This behavior is deprecated, and in a future version of pandas the grouping columns will be excluded from the operation. Either pass `include_groups=False` to exclude the groupings or explicitly select the grouping columns after groupby to silence this warning.\n",
      "  census_df = census_df.groupby('household', group_keys=False).apply(update_child_religion)\n"
     ]
    }
   ],
   "source": [
    "# For minors with a specified relationship to the head of household (i.e., not \"Unknown\"), \n",
    "# their religion was replaced with that of the head of household.\n",
    "\n",
    "#Create a composite household identifier\n",
    "census_df['household'] = census_df['Street'].str.strip() + \" \" + census_df['House Number'].astype(str).str.strip()\n",
    "\n",
    "# Define a function to update religion for children in each household group\n",
    "def update_child_religion(group):\n",
    "    # Find the head of the household (case-insensitive comparison)\n",
    "    head_rows = group[group['Relationship to Head of House'].str.strip().str.lower() == 'head']\n",
    "    if not head_rows.empty:\n",
    "        # Use the first \"Head\" found to determine the household's religion\n",
    "        head_religion = head_rows.iloc[0]['Religion']\n",
    "        # Identify children (0-17 years) whose relationship is not 'unknown'\n",
    "        idx = group[(group['Age'] >= 0) & (group['Age'] <= 17) &\n",
    "                    (group['Relationship to Head of House'].str.strip().str.lower() != 'unknown')].index\n",
    "        group.loc[idx, 'Religion'] = head_religion\n",
    "    return group\n",
    "\n",
    "# Apply the function to each household group\n",
    "census_df = census_df.groupby('household', group_keys=False).apply(update_child_religion)\n",
    "\n",
    "# print the rows for children to verify the changes\n",
    "print(census_df[(census_df['Age'] >= 0) & (census_df['Age'] <= 17)][['household', 'First Name', 'Surname', 'Age', 'Relationship to Head of House', 'Religion']])\n"
   ]
  },
  {
   "cell_type": "code",
   "execution_count": 83,
   "id": "c9459ea7-9b9f-4efe-bbd2-9048a3ec911d",
   "metadata": {},
   "outputs": [
    {
     "name": "stdout",
     "output_type": "stream",
     "text": [
      "Unique values after cleaning:\n",
      "['Methodist' 'Not Religious' 'Christian' 'Catholic' 'Muslim' 'Sikh'\n",
      " 'Orthodoxy' 'Jewish' 'Agnostic' 'Pagan' 'Bahai']\n"
     ]
    }
   ],
   "source": [
    "print(\"Unique values after cleaning:\")\n",
    "print(census_df['Religion'].unique())"
   ]
  },
  {
   "cell_type": "markdown",
   "id": "58f0300e-8549-4c5c-be48-7689d7b19898",
   "metadata": {},
   "source": [
    "## CLEANING OCCUPATION"
   ]
  },
  {
   "cell_type": "code",
   "execution_count": 85,
   "id": "fe3f5a12-6044-400e-88d4-47123d4a02eb",
   "metadata": {},
   "outputs": [
    {
     "name": "stdout",
     "output_type": "stream",
     "text": [
      "38\n"
     ]
    }
   ],
   "source": [
    "# For individuals aged 65 and older who were listed as \"unemployed\", their \"Occupation\" field was updated to \"Retired\".\n",
    " \n",
    "census_df.loc[\n",
    "    (census_df['Age'] >= 65) & \n",
    "    (census_df['Occupation'].str.lower() == 'unemployed'),\n",
    "    'Occupation'\n",
    "] = 'Retired'\n",
    "\n",
    "#Print the number affected rows\n",
    "print(len(census_df[(census_df['Age'] >= 65) & (census_df['Occupation'] == 'Retired')][['Age', 'Occupation']]))\n"
   ]
  },
  {
   "cell_type": "markdown",
   "id": "be8907ba-32c8-4335-8736-d871a37a95f0",
   "metadata": {},
   "source": [
    "## DETAILED ANALYSIS AND VISUALIZATIONS"
   ]
  },
  {
   "cell_type": "markdown",
   "id": "f73cb09b-9cbe-4153-9e20-b3fa024d9220",
   "metadata": {},
   "source": [
    "#### PIE CHART FOR GENDER DISTRIBUTION"
   ]
  },
  {
   "cell_type": "code",
   "execution_count": 86,
   "id": "87d6bff1-1a1a-45d9-85a6-d5d082e724c0",
   "metadata": {},
   "outputs": [
    {
     "data": {
      "image/png": "[encoded data removed]",
      "text/plain": [
       "<Figure size 700x700 with 1 Axes>"
      ]
     },
     "metadata": {},
     "output_type": "display_data"
    }
   ],
   "source": [
    "# count the occurrences of each gender\n",
    "gender_counts = census_df['Gender'].value_counts()\n",
    "\n",
    "# Prepare the labels and sizes for the pie chart\n",
    "labels = gender_counts.index.tolist()\n",
    "sizes = gender_counts.values\n",
    "\n",
    "# Define colors\n",
    "colors = ['skyblue', 'lightpink']  # Adjust based on the number of unique genders\n",
    "\n",
    "# Create the pie chart\n",
    "plt.figure(figsize=(7,7))\n",
    "plt.pie(sizes, labels=labels, colors=colors[:len(labels)], autopct='%1.1f%%', startangle=90, shadow=True)\n",
    "\n",
    "# Add a title and ensure the pie is a circle\n",
    "plt.title('Gender Distribution')\n",
    "plt.axis('equal') \n",
    "\n",
    "# Display the plot\n",
    "plt.show()\n"
   ]
  },
  {
   "cell_type": "markdown",
   "id": "037c9a37-a7c6-4f96-8799-9c6344b2108a",
   "metadata": {},
   "source": [
    "#### POPULATION PYRAMID SHOWING AGE DISTRBUTION"
   ]
  },
  {
   "cell_type": "code",
   "execution_count": 87,
   "id": "c81c333c-e17f-44e8-8351-1b40df56ba9d",
   "metadata": {},
   "outputs": [
    {
     "name": "stderr",
     "output_type": "stream",
     "text": [
      "C:\\Users\\user\\AppData\\Local\\Temp\\ipykernel_16592\\1224809027.py:10: FutureWarning: The default of observed=False is deprecated and will be changed to True in a future version of pandas. Pass observed=False to retain current behavior or observed=True to adopt the future default and silence this warning.\n",
      "  pyramid_data = census_df.groupby(['Age_bin', 'Gender']).size().unstack(fill_value=0)\n"
     ]
    },
    {
     "data": {
      "image/png": "[encoded data removed]",
      "text/plain": [
       "<Figure size 800x1000 with 1 Axes>"
      ]
     },
     "metadata": {},
     "output_type": "display_data"
    }
   ],
   "source": [
    "# Age Distribution (Age Pyramid)\n",
    "\n",
    "# 5-year bins\n",
    "bins = range(0, census_df['Age'].max() + 5, 5)\n",
    "\n",
    "# 'Age_bin' column with intervals\n",
    "census_df['Age_bin'] = pd.cut(census_df['Age'], bins=bins, right=False)\n",
    "\n",
    "# Grouped by both Age_bin and Gender\n",
    "pyramid_data = census_df.groupby(['Age_bin', 'Gender']).size().unstack(fill_value=0)\n",
    "\n",
    "# oldest age group is at the top\n",
    "pyramid_data = pyramid_data.iloc[::-1]\n",
    "\n",
    "# Male and female counts\n",
    "male_counts = pyramid_data['Male']\n",
    "female_counts = pyramid_data['Female']\n",
    "\n",
    "# Indices for the horizontal axis\n",
    "y = np.arange(len(pyramid_data))\n",
    "\n",
    "fig, ax = plt.subplots(figsize=(8, 10))\n",
    "\n",
    "# males as negative (to the left)\n",
    "ax.barh(y, -male_counts, color='blue', label='Male')\n",
    "\n",
    "# females as positive (to the right)\n",
    "ax.barh(y, female_counts, color='red', label='Female')\n",
    "\n",
    "# Custom labels for the age bins that reflect the actual contents e.g 95-99\n",
    "custom_labels = [f\"{int(interval.left)} - {int(interval.right) - 1}\" for interval in pyramid_data.index]\n",
    "\n",
    "# y-axis tick positions and the custom labels\n",
    "ax.set_yticks(y)\n",
    "ax.set_yticklabels(custom_labels)\n",
    "\n",
    "# full range is visible on both sides with 10% padding\n",
    "max_count = max(male_counts.max(), female_counts.max())\n",
    "ax.set_xlim(-max_count * 1.1, max_count * 1.1)\n",
    "\n",
    "# Inverted y-axis so the oldest bin appears at the top\n",
    "ax.invert_yaxis()\n",
    "\n",
    "# Labeling\n",
    "ax.set_xlabel('Number of Individuals')\n",
    "ax.set_ylabel('Age Group')\n",
    "ax.set_title('Population Pyramid')\n",
    "ax.legend()\n",
    "\n",
    "# Adding Highest & Lowest Population Age Group Info in Top Right\n",
    "# Calculate total (male + female) per bin\n",
    "total_counts = male_counts + female_counts\n",
    "\n",
    "# Identify bins with highest & lowest total population\n",
    "max_bin = total_counts.idxmax()  \n",
    "min_bin = total_counts.idxmin()  \n",
    "\n",
    "# bins converted  into the same text format as the y-axis labels\n",
    "max_label = custom_labels[pyramid_data.index.get_loc(max_bin)]\n",
    "min_label = custom_labels[pyramid_data.index.get_loc(min_bin)]\n",
    "\n",
    "# texted to the figure in the top right corner\n",
    "ax.text(\n",
    "    0.98, 0.98,\n",
    "    f\"Highest population: {max_label}\\nLowest population: {min_label}\",\n",
    "    transform=ax.transAxes,\n",
    "    fontsize=12,\n",
    "    verticalalignment='top',\n",
    "    horizontalalignment='right',\n",
    "    bbox=dict(facecolor='white', alpha=0.8, edgecolor='none')\n",
    ")\n",
    "\n",
    "plt.tight_layout()\n",
    "plt.savefig(\"population_pyramid1.png\")\n",
    "plt.show()\n"
   ]
  },
  {
   "cell_type": "markdown",
   "id": "23918853-7e4c-425e-945b-5d3678e59789",
   "metadata": {},
   "source": [
    "#### DIVISION INTO AGE GROUPS"
   ]
  },
  {
   "cell_type": "code",
   "execution_count": 88,
   "id": "6ab78d06-7153-446f-931e-6c5be2bc0504",
   "metadata": {},
   "outputs": [
    {
     "name": "stdout",
     "output_type": "stream",
     "text": [
      "\n",
      "Age Group Distribution:\n",
      "Children (<18): 1647 (21.60%)\n",
      "Young Adults in Higher Education and Early Careers (18-24): 853 (11.19%)\n",
      "Working Age (25-64): 4193 (55.00%)\n",
      "Retirement Age (65+): 931 (12.21%)\n"
     ]
    }
   ],
   "source": [
    "# Summarize age groups to see potential future trends\n",
    "age_groups = {\n",
    "    'Children (<18)': census_df[census_df['Age'] < 18].shape[0],\n",
    "    'Young Adults in Higher Education and Early Careers (18-24)': census_df[(census_df['Age'] >= 18) & (census_df['Age'] < 25)].shape[0],\n",
    "    'Working Age (25-64)': census_df[(census_df['Age'] >= 25) & (census_df['Age'] < 65)].shape[0],\n",
    "    'Retirement Age (65+)': census_df[census_df['Age'] >= 65].shape[0]\n",
    "}\n",
    "\n",
    "print(\"\\nAge Group Distribution:\")\n",
    "total = census_df.shape[0]\n",
    "for group, count in age_groups.items():\n",
    "    print(f\"{group}: {count} ({count/total*100:.2f}%)\")"
   ]
  },
  {
   "cell_type": "markdown",
   "id": "f311e35f-30a5-4025-833e-48399f55195e",
   "metadata": {},
   "source": [
    "#### UNEMPLOYMENT BY AGE GROUP EXCLUDING CERTAIN DEMOGRAOHICS"
   ]
  },
  {
   "cell_type": "code",
   "execution_count": 90,
   "id": "c0fd92c2-bfad-40ec-b180-6bcb252d4874",
   "metadata": {},
   "outputs": [
    {
     "data": {
      "image/png": "[encoded data removed]",
      "text/plain": [
       "<Figure size 800x600 with 1 Axes>"
      ]
     },
     "metadata": {},
     "output_type": "display_data"
    }
   ],
   "source": [
    "# Function that assigns each age to an age group\n",
    "def get_age_group(age):\n",
    "    if age < 18:\n",
    "        return 'Children (<18)'\n",
    "    elif age < 25:\n",
    "        return 'Young Adults (18-24)'\n",
    "    elif age < 65:\n",
    "        return 'Working Age (25-64)'\n",
    "    else:\n",
    "        return 'Retirement Age (65+)'\n",
    "\n",
    "# Create a new column 'age_group'\n",
    "census_df['age_group'] = census_df['Age'].apply(get_age_group)\n",
    "\n",
    "# Exclude rows with 'student' or 'retired' in the Occupation column (case-insensitive)\n",
    "filtered_df = census_df[\n",
    "    ~census_df['Occupation'].str.contains('student', case=False, na=False) &\n",
    "    ~census_df['Occupation'].str.contains('retired', case=False, na=False)\n",
    "].copy()\n",
    "\n",
    "# Exclude the children group and also the retired (65+) age group entirely\n",
    "filtered_df = filtered_df[\n",
    "    (filtered_df['age_group'] != 'Children (<18)') &\n",
    "    (filtered_df['age_group'] != 'Retirement Age (65+)')\n",
    "]\n",
    "\n",
    "# Mark unemployed individuals\n",
    "filtered_df['is_unemployed'] = filtered_df['Occupation'].apply(lambda x: 1 if x.lower() == 'unemployed' else 0)\n",
    "\n",
    "# Group by age_group to calculate the mean unemployment rate for each category\n",
    "unemployment_by_group = filtered_df.groupby('age_group')['is_unemployed'].mean()\n",
    "\n",
    "# Ensure the groups appear with the young adults first\n",
    "age_group_order = [\n",
    "    'Young Adults (18-24)',\n",
    "    'Working Age (25-64)'\n",
    "]\n",
    "unemployment_by_group = unemployment_by_group.reindex(age_group_order)\n",
    "\n",
    "# Plot the unemployment rate by age group\n",
    "plt.figure(figsize=(8, 6))\n",
    "unemployment_by_group.plot(kind='bar', color='skyblue')\n",
    "plt.xlabel(\"Age Group\")\n",
    "plt.ylabel(\"Unemployment Rate\")\n",
    "plt.title(\"Unemployment Rate by Age Group\\n(Excluding Children, Students, and Retired)\")\n",
    "plt.xticks(rotation=0)  # Keep labels horizontal\n",
    "plt.grid(axis='y')      # Adds a horizontal grid for clarity\n",
    "plt.tight_layout()\n",
    "plt.savefig('Unemployment Rate by Age Group(Excluding Children, Students, and Retired.png')\n",
    "plt.show()\n"
   ]
  },
  {
   "cell_type": "markdown",
   "id": "8730b054-2ba0-4502-a8a0-866f0d006b0d",
   "metadata": {},
   "source": [
    "#### RELIGION DISTRIBUTION AND COUNTS"
   ]
  },
  {
   "cell_type": "code",
   "execution_count": 91,
   "id": "3261e058-7246-431f-81b8-11170780341f",
   "metadata": {
    "scrolled": true
   },
   "outputs": [
    {
     "data": {
      "image/png": "[encoded data removed]",
      "text/plain": [
       "<Figure size 1000x600 with 1 Axes>"
      ]
     },
     "metadata": {},
     "output_type": "display_data"
    },
    {
     "name": "stdout",
     "output_type": "stream",
     "text": [
      "\n",
      "Religious Affiliations Count:\n",
      "Religion\n",
      "Not Religious    3261\n",
      "Christian        2248\n",
      "Catholic         1154\n",
      "Methodist         708\n",
      "Muslim            143\n",
      "Sikh               70\n",
      "Jewish             33\n",
      "Pagan               3\n",
      "Agnostic            2\n",
      "Orthodoxy           1\n",
      "Bahai               1\n",
      "Name: count, dtype: int64\n"
     ]
    }
   ],
   "source": [
    "# count Religions \n",
    "religion_counts = census_df['Religion'].value_counts()\n",
    "\n",
    "plt.figure(figsize=(10,6))\n",
    "religion_counts.plot(kind='bar')\n",
    "plt.xlabel(\"Religion\")\n",
    "plt.ylabel(\"Number of People\")\n",
    "plt.title(\"Religious Affiliations\")\n",
    "plt.xticks(rotation=45)\n",
    "plt.savefig('religion.png')\n",
    "plt.show()\n",
    "\n",
    "print(\"\\nReligious Affiliations Count:\")\n",
    "print(religion_counts)"
   ]
  },
  {
   "cell_type": "markdown",
   "id": "46d73bd4-cdb7-4275-a95b-08d1149a2bfe",
   "metadata": {},
   "source": [
    "#### MARITAL STATUS DISTRIBUTION"
   ]
  },
  {
   "cell_type": "code",
   "execution_count": 92,
   "id": "749efbc7-01ee-430e-9229-17e042ffc6c3",
   "metadata": {},
   "outputs": [
    {
     "data": {
      "image/png": "[encoded data removed]",
      "text/plain": [
       "<Figure size 800x800 with 1 Axes>"
      ]
     },
     "metadata": {},
     "output_type": "display_data"
    },
    {
     "name": "stdout",
     "output_type": "stream",
     "text": [
      "\n",
      "Marital Status Counts:\n",
      "Marital Status\n",
      "Single      2787\n",
      "Married     2012\n",
      "Underage    1647\n",
      "Divorced     768\n",
      "Widowed      410\n",
      "Name: count, dtype: int64\n"
     ]
    }
   ],
   "source": [
    "# a look at marital status counts\n",
    "marital_counts = census_df['Marital Status'].value_counts()\n",
    "\n",
    "plt.figure(figsize=(8,8))\n",
    "marital_counts.plot(kind='bar', color='skyblue')\n",
    "plt.title(\"Marital Status Distribution\")\n",
    "plt.ylabel(\"Count\")\n",
    "plt.xticks(rotation=0)\n",
    "plt.savefig('maritalstatus1.png')\n",
    "plt.show()\n",
    "\n",
    "print(\"\\nMarital Status Counts:\")\n",
    "print(marital_counts)\n"
   ]
  },
  {
   "cell_type": "markdown",
   "id": "9adc5d8f-b6b1-4303-845f-1097e3f6752e",
   "metadata": {},
   "source": [
    "#### HOUSEHOLD OCCUPANCY LEVELS ANALYSIS"
   ]
  },
  {
   "cell_type": "code",
   "execution_count": 93,
   "id": "83ae2085-827a-420c-b206-30968ea97264",
   "metadata": {},
   "outputs": [
    {
     "name": "stdout",
     "output_type": "stream",
     "text": [
      "Average occupancy per household: 2.57\n",
      "Median occupancy per household: 2.0\n",
      "Households with occupancy < 4 (under-used): 2289\n",
      "Households with occupancy = 4: 314\n",
      "Households with occupancy > 4 (over-used): 366\n"
     ]
    },
    {
     "data": {
      "image/png": "[encoded data removed]",
      "text/plain": [
       "<Figure size 1000x600 with 1 Axes>"
      ]
     },
     "metadata": {},
     "output_type": "display_data"
    }
   ],
   "source": [
    "# composite household identifier (combining Street and House Number)\n",
    "census_df['household'] = census_df['Street'].str.strip() + \" \" + census_df['House Number'].astype(str).str.strip()\n",
    "\n",
    "# Group by the new household identifier to calculate occupancy\n",
    "occupancy = census_df.groupby('household').size()\n",
    "\n",
    "# 4 was chosen as the recommended occupancy threshold based on local standards\n",
    "recommended_threshold = 4\n",
    "\n",
    "# Calculate statistics\n",
    "average_occupancy = occupancy.mean()\n",
    "median_occupancy = occupancy.median()\n",
    "\n",
    "# Count households that are under-used, exactly at threshold, or over-used\n",
    "num_underused = occupancy[occupancy < recommended_threshold].count()\n",
    "num_exact = occupancy[occupancy == recommended_threshold].count()\n",
    "num_overused = occupancy[occupancy > recommended_threshold].count()\n",
    "\n",
    "print(f\"Average occupancy per household: {average_occupancy:.2f}\")\n",
    "print(f\"Median occupancy per household: {median_occupancy}\")\n",
    "print(f\"Households with occupancy < {recommended_threshold} (under-used): {num_underused}\")\n",
    "print(f\"Households with occupancy = {recommended_threshold}: {num_exact}\")\n",
    "print(f\"Households with occupancy > {recommended_threshold} (over-used): {num_overused}\")\n",
    "\n",
    "# Plot a histogram of occupancy with a line showing the recommended threshold\n",
    "plt.figure(figsize=(10,6))\n",
    "plt.hist(occupancy, bins=range(0, occupancy.max() + 2), color='purple', alpha=0.7, edgecolor='black')\n",
    "plt.axvline(recommended_threshold, color='red', linestyle='dashed', linewidth=2,\n",
    "            label=f'Recommended threshold: {recommended_threshold}')\n",
    "plt.xlabel(\"Number of People per Household\")\n",
    "plt.ylabel(\"Number of Households\")\n",
    "plt.title(\"Household Occupancy Levels\")\n",
    "plt.legend()\n",
    "plt.savefig('householde levels.png')\n",
    "plt.show()\n"
   ]
  },
  {
   "cell_type": "markdown",
   "id": "d30eb03a-68fa-44d0-9f54-6f2c4eb9aae4",
   "metadata": {},
   "source": [
    "#### TOP 10 OCCUPATIONS (Excluding Certain Categories)"
   ]
  },
  {
   "cell_type": "code",
   "execution_count": 94,
   "id": "e5dce233-8fa7-4c6e-929d-08e9298ec145",
   "metadata": {},
   "outputs": [
    {
     "name": "stdout",
     "output_type": "stream",
     "text": [
      "\n",
      "Number of  Students: 1849\n"
     ]
    },
    {
     "data": {
      "image/png": "[encoded data removed]",
      "text/plain": [
       "<Figure size 1000x600 with 1 Axes>"
      ]
     },
     "metadata": {},
     "output_type": "display_data"
    }
   ],
   "source": [
    "# Count university students (assuming occupation text contains 'student')\n",
    "students = census_df[census_df['Occupation'].str.contains('student', case=False, na=False)]\n",
    "print(f\"\\nNumber of  Students: {students.shape[0]}\")\n",
    "\n",
    "# List of occupations to exclude\n",
    "exclude = [\"Student\", \"University Student\", \"PhD Student\", \"Unemployed\", \"Child\", \"Retired\"]\n",
    "\n",
    "# Filter the DataFrame to exclude these occupations (exact matches)\n",
    "filtered_df = census_df[~census_df['Occupation'].isin(exclude)]\n",
    "\n",
    "# Calculate the top 10 occupations from the filtered data\n",
    "top_occupations = filtered_df['Occupation'].value_counts().head(10)\n",
    "\n",
    "plt.figure(figsize=(10,6))\n",
    "top_occupations.plot(kind='bar')\n",
    "plt.xlabel(\"Occupation\")\n",
    "plt.ylabel(\"Count\")\n",
    "plt.title(\"Top 10 Occupations (Excluding Certain Categories)\")\n",
    "plt.xticks(rotation=45, ha='right')  # Rotate labels 45° and align them to the right\n",
    "plt.tight_layout()                   # Adjust layout so labels fit properly\n",
    "plt.savefig('Top 10 Occupations (Excluding Certain Categories).png')\n",
    "plt.show()\n"
   ]
  },
  {
   "cell_type": "markdown",
   "id": "d1ef4a5b-bdd4-46c8-a05e-10961e7c1b79",
   "metadata": {},
   "source": [
    "#### COMMUTER ANALYSIS"
   ]
  },
  {
   "cell_type": "code",
   "execution_count": 95,
   "id": "21139359-fa0a-4ab2-92e1-584633165961",
   "metadata": {},
   "outputs": [
    {
     "name": "stdout",
     "output_type": "stream",
     "text": [
      "likely_commuter\n",
      "True     4684\n",
      "False    2940\n",
      "Name: count, dtype: int64\n"
     ]
    }
   ],
   "source": [
    "# keywords that likely indicate commuter roles\n",
    "commuter_keywords = [\n",
    "    'analyst', 'consultant', 'engineer', 'scientist', 'specialist', 'planner',\n",
    "    'technician', 'developer', 'architect', 'manager', 'officer', 'advisor',\n",
    "    'surveyor', 'accountant', 'lawyer', 'solicitor', 'actuary', 'doctor',\n",
    "    'nurse', 'haematologist', 'psychologist', 'teacher', 'lecturer', 'professor',\n",
    "    'producer', 'editor', 'journalist', 'designer', 'chartered', 'actor', 'banker', 'cabin', 'chief',\n",
    "    'pilot','film', 'student', 'field', 'travel'\n",
    "    \n",
    "]\n",
    "\n",
    "# Function to detect commuter based on keywords\n",
    "def is_commuter(occupation):\n",
    "    if pd.isna(occupation):\n",
    "        return False\n",
    "    occupation = occupation.lower()\n",
    "    return any(keyword in occupation for keyword in commuter_keywords)\n",
    "\n",
    "# new column indicating if the person is likely a commuter\n",
    "census_df['likely_commuter'] = census_df['Occupation'].apply(is_commuter)\n",
    "\n",
    "#  view the summary\n",
    "print(census_df['likely_commuter'].value_counts())\n"
   ]
  },
  {
   "cell_type": "code",
   "execution_count": 98,
   "id": "ea036c6a-5da7-4614-81c8-2ccc25b88331",
   "metadata": {},
   "outputs": [
    {
     "name": "stdout",
     "output_type": "stream",
     "text": [
      "Counts:\n",
      "likely_commuter\n",
      "True     4684\n",
      "False    2940\n",
      "Name: count, dtype: int64\n",
      "\n",
      "Percentages (in %):\n",
      "likely_commuter\n",
      "True     61.4\n",
      "False    38.6\n",
      "Name: proportion, dtype: float64\n"
     ]
    }
   ],
   "source": [
    "# Count the number of commuters vs non-commuters\n",
    "commuter_counts = census_df['likely_commuter'].value_counts()\n",
    "\n",
    "# Calculate percentages of communter counts\n",
    "commuter_percentages = census_df['likely_commuter'].value_counts(normalize=True) * 100\n",
    "\n",
    "print(\"Counts:\")\n",
    "print(commuter_counts)\n",
    "print(\"\\nPercentages (in %):\")\n",
    "print(commuter_percentages.round(1))\n"
   ]
  },
  {
   "cell_type": "code",
   "execution_count": 99,
   "id": "3b1a057d-0f5a-4cc2-af9a-56f055e15804",
   "metadata": {},
   "outputs": [
    {
     "data": {
      "image/png": "[encoded data removed]",
      "text/plain": [
       "<Figure size 800x600 with 1 Axes>"
      ]
     },
     "metadata": {},
     "output_type": "display_data"
    }
   ],
   "source": [
    "# Count the number of commuters vs. non-commuters\n",
    "commuter_counts = census_df['likely_commuter'].value_counts()\n",
    "\n",
    "# Reorder so that False (Non-Commuters) comes first, then True (Commuters)\n",
    "commuter_counts = commuter_counts.reindex([False, True])\n",
    "\n",
    "# Create a bar chart\n",
    "plt.figure(figsize=(8,6))\n",
    "bars = plt.bar(['Likely Non-Commuters', 'Likely Commuters'], commuter_counts, color=['lightblue', 'orange'])\n",
    "plt.title(\"Proportion of Likely Commuters vs. Non-Commuters\")\n",
    "plt.ylabel(\"Count\")\n",
    "plt.tight_layout()\n",
    "plt.savefig(\"Proportion_of_Likely_Commuters_vs_Non-Commuters_Bar.png\")\n",
    "plt.show()\n"
   ]
  },
  {
   "cell_type": "markdown",
   "id": "a6cd09ed-6dd0-4bf1-ab98-81ac3ece2de5",
   "metadata": {},
   "source": [
    "#### BIRTH RATE CALCULATIONS"
   ]
  },
  {
   "cell_type": "code",
   "execution_count": 101,
   "id": "bec4acf4-6136-4e08-a2e9-dead35aade96",
   "metadata": {},
   "outputs": [
    {
     "name": "stdout",
     "output_type": "stream",
     "text": [
      "Number of children aged zero: 74\n",
      "Number of potential mothers (age 18-49): 2049\n",
      "Birth rate per 100,000 potential mothers: 3611.517813567594\n"
     ]
    }
   ],
   "source": [
    "# Birth Rate Calculation for the past year\n",
    "#Compute the number of children aged zero (births in the past year)\n",
    "children_aged_zero = census_df[census_df['Age'] == 0]\n",
    "num_children_aged_zero = len(children_aged_zero)\n",
    "\n",
    "#Define potential mothers using women aged 18-49\n",
    "potential_mothers = census_df[(census_df['Gender'] == 'Female') & (census_df['Age'] >= 18) & (census_df['Age'] <= 49)]\n",
    "num_potential_mothers = len(potential_mothers)\n",
    "\n",
    "#Compute the birth rate per 100,000 potential mothers\n",
    "birth_rate_per_100k = (num_children_aged_zero / num_potential_mothers) * 100000\n",
    "\n",
    "print(\"Number of children aged zero:\", num_children_aged_zero)\n",
    "print(\"Number of potential mothers (age 18-49):\", num_potential_mothers)\n",
    "print(\"Birth rate per 100,000 potential mothers:\", birth_rate_per_100k)"
   ]
  },
  {
   "cell_type": "code",
   "execution_count": 102,
   "id": "29f3fa26-13a3-4bd4-b8cf-382c0dbf2bb6",
   "metadata": {},
   "outputs": [
    {
     "name": "stdout",
     "output_type": "stream",
     "text": [
      "Number of children aged four (births 4 years ago): 96\n",
      "Number of potential mothers (aged 22-53): 1974\n",
      "Birth rate per 100,000 potential mothers (4 years ago): 4863.22188449848\n"
     ]
    }
   ],
   "source": [
    "# Birth Rate Calculation for 4 Years Ago \n",
    "# Compute the number of children aged 4  for births 4 years ago\n",
    "children_aged_four = census_df[census_df['Age'] == 4]\n",
    "num_children_aged_four = len(children_aged_four)\n",
    "\n",
    "# Define potential mothers for births 4 years ago.\n",
    "# If for current births we use women aged 18-49, then for births 4 years ago use women now aged 22-53.\n",
    "potential_mothers_4years = census_df[(census_df['Gender'] == 'Female') & (census_df['Age'] >= 22) & (census_df['Age'] <= 53)]\n",
    "num_potential_mothers_4years = len(potential_mothers_4years)\n",
    "\n",
    "# Compute the birth rate per 100,000 potential mothers for births 4 years ago\n",
    "birth_rate_4years_per_100k = (num_children_aged_four / num_potential_mothers_4years) * 100000\n",
    "\n",
    "print(\"Number of children aged four (births 4 years ago):\", num_children_aged_four)\n",
    "print(\"Number of potential mothers (aged 22-53):\", num_potential_mothers_4years)\n",
    "print(\"Birth rate per 100,000 potential mothers (4 years ago):\", birth_rate_4years_per_100k)\n"
   ]
  },
  {
   "cell_type": "markdown",
   "id": "2d3515b4-baaa-47ed-b81f-59589ac5b7cf",
   "metadata": {},
   "source": [
    "#### DEATH RATE CALCULATIONS"
   ]
  },
  {
   "cell_type": "code",
   "execution_count": 103,
   "id": "33cd2f9c-7acc-4969-8d5b-20f11feaea90",
   "metadata": {},
   "outputs": [
    {
     "name": "stdout",
     "output_type": "stream",
     "text": [
      "Number in age group 70-74: 238\n",
      "Number in age group 100-104: 6\n",
      "Cumulative reduction (proxy for deaths): 232\n",
      "Death rate per 100,000 (cumulative, 70-74 to 100-104): 97478.99159663865\n"
     ]
    },
    {
     "name": "stderr",
     "output_type": "stream",
     "text": [
      "C:\\Users\\user\\AppData\\Local\\Temp\\ipykernel_16592\\1707419929.py:6: FutureWarning: The default of observed=False is deprecated and will be changed to True in a future version of pandas. Pass observed=False to retain current behavior or observed=True to adopt the future default and silence this warning.\n",
      "  age_counts = census_df.groupby('age_bin').size()\n"
     ]
    }
   ],
   "source": [
    "# 5-year age bins covering from 70 to 105\n",
    "bins = range(70, 110, 5)  \n",
    "census_df['age_bin'] = pd.cut(census_df['Age'], bins=bins, right=False)\n",
    "\n",
    "# Group the data by the new age_bin and count the number of individuals in each bin\n",
    "age_counts = census_df.groupby('age_bin').size()\n",
    "\n",
    "# the bin [70,75) covers ages 70 to 74 and the bin [100,105) covers ages 100 to 104.\n",
    "group_70_74 = age_counts.loc[pd.Interval(70,75,closed='left')]\n",
    "group_100_104 = age_counts.loc[pd.Interval(100,105,closed='left')]\n",
    "\n",
    "cumulative_deaths = group_70_74 - group_100_104\n",
    "\n",
    "# Calculate the cumulative death rate per 100,000 individuals in the 70–74 age group\n",
    "death_rate_per_100k = (cumulative_deaths / group_70_74) * 100000\n",
    "\n",
    "print(\"Number in age group 70-74:\", group_70_74)\n",
    "print(\"Number in age group 100-104:\", group_100_104)\n",
    "print(\"Cumulative reduction (proxy for deaths):\", cumulative_deaths)\n",
    "print(\"Death rate per 100,000 (cumulative, 70-74 to 100-104):\", death_rate_per_100k)\n"
   ]
  },
  {
   "cell_type": "code",
   "execution_count": 104,
   "id": "ca295f55-258b-4102-9a88-e1fdfccda6cc",
   "metadata": {},
   "outputs": [
    {
     "name": "stdout",
     "output_type": "stream",
     "text": [
      "From 70-74 to 75-79:\n",
      "  Count in 70-74: 238\n",
      "  Count in 75-79: 184\n",
      "  Reduction: 54\n",
      "  Proxy death rate per 100,000: 22689.08\n",
      "\n",
      "From 75-79 to 80-84:\n",
      "  Count in 75-79: 184\n",
      "  Count in 80-84: 137\n",
      "  Reduction: 47\n",
      "  Proxy death rate per 100,000: 25543.48\n",
      "\n",
      "From 80-84 to 85-89:\n",
      "  Count in 80-84: 137\n",
      "  Count in 85-89: 68\n",
      "  Reduction: 69\n",
      "  Proxy death rate per 100,000: 50364.96\n",
      "\n",
      "From 85-89 to 90-94:\n",
      "  Count in 85-89: 68\n",
      "  Count in 90-94: 19\n",
      "  Reduction: 49\n",
      "  Proxy death rate per 100,000: 72058.82\n",
      "\n",
      "From 90-94 to 95-99:\n",
      "  Count in 90-94: 19\n",
      "  Count in 95-99: 11\n",
      "  Reduction: 8\n",
      "  Proxy death rate per 100,000: 42105.26\n",
      "\n",
      "From 95-99 to 100-104:\n",
      "  Count in 95-99: 11\n",
      "  Count in 100-104: 6\n",
      "  Reduction: 5\n",
      "  Proxy death rate per 100,000: 45454.55\n",
      "\n"
     ]
    },
    {
     "name": "stderr",
     "output_type": "stream",
     "text": [
      "C:\\Users\\user\\AppData\\Local\\Temp\\ipykernel_16592\\1474604605.py:6: FutureWarning: The default of observed=False is deprecated and will be changed to True in a future version of pandas. Pass observed=False to retain current behavior or observed=True to adopt the future default and silence this warning.\n",
      "  age_counts = census_df.groupby('age_bin').size()\n"
     ]
    }
   ],
   "source": [
    "# 5-year age bins covering from 70 to 105\n",
    "bins = range(70, 110, 5)  \n",
    "census_df['age_bin'] = pd.cut(census_df['Age'], bins=bins, right=False)\n",
    "\n",
    "# Group by age_bin to get counts in each group\n",
    "age_counts = census_df.groupby('age_bin').size()\n",
    "\n",
    "# Sort the age bins in ascending order based on the left endpoint\n",
    "age_intervals = sorted(age_counts.index, key=lambda x: x.left)\n",
    "\n",
    "# Compare adjacent age groups\n",
    "for i in range(1, len(age_intervals)):\n",
    "    prev_bin = age_intervals[i-1]\n",
    "    curr_bin = age_intervals[i]\n",
    "    count_prev = age_counts[prev_bin]\n",
    "    count_curr = age_counts[curr_bin]\n",
    "    \n",
    "    # a proxy for cumulative deaths between the two groups\n",
    "    reduction = count_prev - count_curr\n",
    "    \n",
    "    # Calculate a \"death rate\" per 100,000 individuals in the previous age group\n",
    "    death_rate_per_100k = (reduction / count_prev) * 100000 if count_prev != 0 else None\n",
    "    \n",
    "    # Print out the comparison for each pair\n",
    "    print(f\"From {int(prev_bin.left)}-{int(prev_bin.right)-1} to {int(curr_bin.left)}-{int(curr_bin.right)-1}:\")\n",
    "    print(f\"  Count in {int(prev_bin.left)}-{int(prev_bin.right)-1}: {count_prev}\")\n",
    "    print(f\"  Count in {int(curr_bin.left)}-{int(curr_bin.right)-1}: {count_curr}\")\n",
    "    print(f\"  Reduction: {reduction}\")\n",
    "    print(f\"  Proxy death rate per 100,000: {death_rate_per_100k:.2f}\\n\")\n"
   ]
  },
  {
   "cell_type": "markdown",
   "id": "3089b357-f448-4041-a106-e366e820f0c6",
   "metadata": {},
   "source": [
    "#### INFIRMITY ANALYSIS"
   ]
  },
  {
   "cell_type": "code",
   "execution_count": 105,
   "id": "6e424fad-f925-4200-a01a-0aec29bedf2f",
   "metadata": {},
   "outputs": [
    {
     "name": "stdout",
     "output_type": "stream",
     "text": [
      "                   Count  Frequency (%)\n",
      "Infirmity                              \n",
      "No Infirmity        7575           99.4\n",
      "Disabled              42            0.6\n",
      "Unknown Infection      7            0.1\n"
     ]
    }
   ],
   "source": [
    "# Count the occurrences in the 'Infirmity' column\n",
    "infirmity_counts = census_df['Infirmity'].value_counts()\n",
    "\n",
    "# Calculate frequency percentages\n",
    "total = infirmity_counts.sum()\n",
    "frequency_pct = (infirmity_counts / total) * 100\n",
    "\n",
    "# Create a summary DataFrame with the counts and frequency percentages\n",
    "infirmity_table = pd.DataFrame({\n",
    "    \"Count\": infirmity_counts,\n",
    "    \"Frequency (%)\": frequency_pct.round(1)\n",
    "})\n",
    "\n",
    "# Display the table with the Infirmity values as the index\n",
    "print(infirmity_table)\n"
   ]
  },
  {
   "cell_type": "code",
   "execution_count": 106,
   "id": "a94625d4-02f8-42b1-b190-999ffe9c550e",
   "metadata": {},
   "outputs": [],
   "source": [
    "backup_df = census_df.copy()"
   ]
  },
  {
   "cell_type": "code",
   "execution_count": null,
   "id": "dea2fc7e-4b91-489e-8eef-98a99a8f21e4",
   "metadata": {},
   "outputs": [],
   "source": []
  }
 ],
 "metadata": {
  "kernelspec": {
   "display_name": "Python 3 (ipykernel)",
   "language": "python",
   "name": "python3"
  },
  "language_info": {
   "codemirror_mode": {
    "name": "ipython",
    "version": 3
   },
   "file_extension": ".py",
   "mimetype": "text/x-python",
   "name": "python",
   "nbconvert_exporter": "python",
   "pygments_lexer": "ipython3",
   "version": "3.12.3"
  }
 },
 "nbformat": 4,
 "nbformat_minor": 5
}
